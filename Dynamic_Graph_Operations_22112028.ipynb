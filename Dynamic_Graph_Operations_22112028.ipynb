{
 "cells": [
  {
   "cell_type": "markdown",
   "id": "287f5bc0",
   "metadata": {},
   "source": [
    "# Adjacent List"
   ]
  },
  {
   "cell_type": "code",
   "execution_count": 5,
   "id": "b461e148",
   "metadata": {},
   "outputs": [
    {
     "name": "stdout",
     "output_type": "stream",
     "text": [
      "Enter the number of vertices: 4\n",
      "Enter vertex 1: a\n",
      "Enter vertex 2: b\n",
      "Enter vertex 3: c\n",
      "Enter vertex 4: d\n",
      "Enter the number of edges: 4\n",
      "Enter edge 1 (vertex1 vertex2): a b\n",
      "Enter edge 2 (vertex1 vertex2): b c\n",
      "Enter edge 3 (vertex1 vertex2): c d\n",
      "Enter edge 4 (vertex1 vertex2): d a\n",
      "Enter starting BFS and DFS: a\n",
      "BFS Traversal: \n",
      "a b d c \n",
      " DFS Traversal: \n",
      "a b c d "
     ]
    }
   ],
   "source": [
    "class Graph:\n",
    "    def __init__(self):\n",
    "        self.adj_list = {}\n",
    "        \n",
    "    def add_vertex(self, v):\n",
    "        if v not in self.adj_list:\n",
    "            self.adj_list[v] = []\n",
    "            \n",
    "    def add_edge(self, v1, v2):\n",
    "        self.adj_list[v1].append(v2)\n",
    "        self.adj_list[v2].append(v1)\n",
    "        \n",
    "    def dfs(self, start, visited = None):\n",
    "        if visited is None:\n",
    "            visited = set()\n",
    "        visited.add(start)\n",
    "        print(start, end = \" \")\n",
    "        for neighbour in self.adj_list[start]:\n",
    "            if neighbour not in visited:\n",
    "                self.dfs(neighbour, visited)\n",
    "                \n",
    "    def bfs(self, start):\n",
    "        visited = set()\n",
    "        queue = [start]\n",
    "        while queue:\n",
    "            v = queue.pop(0)\n",
    "            if v not in visited:\n",
    "                visited.add(v)\n",
    "                print(v, end = \" \")\n",
    "                for neighbour in self.adj_list[v]:\n",
    "                    queue.append(neighbour)\n",
    "        \n",
    "g = Graph()\n",
    "num_vertices = int(input(\"Enter the number of vertices: \"))\n",
    "for i in range(num_vertices):\n",
    "    vertex = input(f\"Enter vertex {i + 1}: \")\n",
    "    g.add_vertex(vertex)\n",
    "                   \n",
    "num_edges = int(input(\"Enter the number of edges: \"))              \n",
    "for i in range(num_edges):\n",
    "    v1, v2 = input(f\"Enter edge {i + 1} (vertex1 vertex2): \").split()\n",
    "    g.add_edge(v1, v2)\n",
    "\n",
    "start_node = input(\"Enter starting BFS and DFS: \")    \n",
    "print(\"BFS Traversal: \")\n",
    "g.bfs(start_node)\n",
    "print(\"\\n DFS Traversal: \")\n",
    "g.dfs(start_node)\n",
    "#start_node = input(\"Enter starting node for BFS and DfS: \")\n",
    "                   \n",
    "                   "
   ]
  },
  {
   "cell_type": "code",
   "execution_count": null,
   "id": "47232b5b",
   "metadata": {},
   "outputs": [],
   "source": []
  }
 ],
 "metadata": {
  "kernelspec": {
   "display_name": "Python 3 (ipykernel)",
   "language": "python",
   "name": "python3"
  },
  "language_info": {
   "codemirror_mode": {
    "name": "ipython",
    "version": 3
   },
   "file_extension": ".py",
   "mimetype": "text/x-python",
   "name": "python",
   "nbconvert_exporter": "python",
   "pygments_lexer": "ipython3",
   "version": "3.9.12"
  }
 },
 "nbformat": 4,
 "nbformat_minor": 5
}
