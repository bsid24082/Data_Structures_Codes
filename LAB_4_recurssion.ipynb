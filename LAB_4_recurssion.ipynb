{
 "cells": [
  {
   "cell_type": "markdown",
   "id": "0ad9a07f",
   "metadata": {},
   "source": [
    "# Lab_4 # Recursion #"
   ]
  },
  {
   "cell_type": "code",
   "execution_count": 1,
   "id": "6bf54d17",
   "metadata": {},
   "outputs": [
    {
     "name": "stdout",
     "output_type": "stream",
     "text": [
      "Please enter the elements to push:12 23 45\n",
      "The stack:\n",
      "45\n",
      "23\n",
      "12\n",
      "After reversing:\n",
      "12\n",
      "23\n",
      "45\n"
     ]
    }
   ],
   "source": [
    "class Stack:\n",
    "    def __init__(self):\n",
    "        self.items = []\n",
    "        \n",
    "    def is_empty(self):\n",
    "        return self.items == []\n",
    "    \n",
    "    def push(self,data):\n",
    "        self.items.append(data)\n",
    "        \n",
    "    def pop(self):\n",
    "        return self.items.pop()\n",
    "    \n",
    "    def display(self):\n",
    "        for data in reversed(self.items):\n",
    "            print(data)\n",
    "            \n",
    "def insert_at_bottom(s,data):\n",
    "    if s.is_empty():\n",
    "        s.push(data)\n",
    "    else:\n",
    "        popped = s.pop()\n",
    "        insert_at_bottom(s,data)\n",
    "        s.push(popped)\n",
    "            \n",
    "def reverse_stack(s):\n",
    "    if not s.is_empty():\n",
    "        popped = s.pop()\n",
    "        reverse_stack(s)\n",
    "        insert_at_bottom(s,popped)\n",
    "            \n",
    "s = Stack()\n",
    "data_list = input('Please enter the elements to push:').split()\n",
    "for data in data_list:\n",
    "    s.push(int(data))\n",
    "    \n",
    "print('The stack:')\n",
    "s.display()\n",
    "reverse_stack(s)\n",
    "print('After reversing:')\n",
    "s.display()\n",
    "            "
   ]
  },
  {
   "cell_type": "code",
   "execution_count": null,
   "id": "a0dda200",
   "metadata": {},
   "outputs": [],
   "source": []
  },
  {
   "cell_type": "code",
   "execution_count": 13,
   "id": "7e03950e",
   "metadata": {},
   "outputs": [
    {
     "name": "stdout",
     "output_type": "stream",
     "text": [
      "Enter the values with a space: 11 12 13 32 21\n",
      "The stack is: \n",
      "21\n",
      "32\n",
      "13\n",
      "12\n",
      "11\n",
      "The reversed stack is: \n",
      "11\n",
      "12\n",
      "13\n",
      "32\n",
      "21\n"
     ]
    }
   ],
   "source": [
    "class Stack:\n",
    "    def __init__(self):\n",
    "        self.items= []\n",
    "        \n",
    "    def is_empty(self):\n",
    "        return self.items == []\n",
    "        \n",
    "    def push(self, data):\n",
    "        self.items.append(data)\n",
    "        \n",
    "    def pop(self):\n",
    "        return self.items.pop()\n",
    "        \n",
    "    def display(self):\n",
    "        for data in reversed(self.items):\n",
    "            print(data)\n",
    "            \n",
    "def insert_at_bottom(self, data):\n",
    "        if s.is_empty():\n",
    "            s.push(data) \n",
    "        else:\n",
    "            popped = self.pop()\n",
    "            insert_at_bottom(s, data)\n",
    "            s.push(popped)\n",
    "            \n",
    "def reverse_stack(self):\n",
    "        if not s.is_empty():\n",
    "            popped = s.pop()\n",
    "            reverse_stack(s)\n",
    "            insert_at_bottom(s, popped)\n",
    "\n",
    "s = Stack()\n",
    "data_list = input(\"Enter the values with a space: \").split()\n",
    "for data in data_list:\n",
    "    s.push(int(data))\n",
    "    \n",
    "print(\"The stack is: \")\n",
    "s.display()\n",
    "print(\"The reversed stack is: \")\n",
    "reverse_stack(s)\n",
    "s.display()\n",
    "            \n",
    "        "
   ]
  },
  {
   "cell_type": "markdown",
   "id": "add04ba9",
   "metadata": {},
   "source": []
  }
 ],
 "metadata": {
  "kernelspec": {
   "display_name": "Python 3 (ipykernel)",
   "language": "python",
   "name": "python3"
  },
  "language_info": {
   "codemirror_mode": {
    "name": "ipython",
    "version": 3
   },
   "file_extension": ".py",
   "mimetype": "text/x-python",
   "name": "python",
   "nbconvert_exporter": "python",
   "pygments_lexer": "ipython3",
   "version": "3.9.12"
  }
 },
 "nbformat": 4,
 "nbformat_minor": 5
}
