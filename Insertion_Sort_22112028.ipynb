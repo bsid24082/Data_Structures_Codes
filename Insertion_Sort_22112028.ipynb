{
 "cells": [
  {
   "cell_type": "markdown",
   "id": "2d4fc9fb",
   "metadata": {},
   "source": [
    "# Insertion Sorting "
   ]
  },
  {
   "cell_type": "code",
   "execution_count": 3,
   "id": "69b4414b",
   "metadata": {},
   "outputs": [
    {
     "name": "stdout",
     "output_type": "stream",
     "text": [
      "Enter no. of elements you want: 3\n",
      "234\n",
      "455\n",
      "342\n",
      "[234, 342, 455]\n"
     ]
    }
   ],
   "source": [
    "def InsertionSort(arr):\n",
    "    ## Transverse through 1 to len(arr)\n",
    "    for i in range(1, len(arr)):\n",
    "        key = arr[i]\n",
    "        ## Move Elements of arr[0...i-1], that are \n",
    "        ## greater than key, to one position ahead\n",
    "        ## of their currentr position \n",
    "        j = i - 1\n",
    "        while j >= 0 and key < arr[j]:\n",
    "            arr[j + 1] = arr[j]\n",
    "            j -= 1\n",
    "        arr[j + 1] = key\n",
    "        \n",
    "\n",
    "arr = []\n",
    "a  = int(input(\"Enter no. of elements you want: \"))\n",
    "for i in range(0, a):\n",
    "    ele = int(input())\n",
    "    arr.append(ele)\n",
    "InsertionSort(arr)\n",
    "print(arr)"
   ]
  },
  {
   "cell_type": "code",
   "execution_count": null,
   "id": "abe6b25e",
   "metadata": {},
   "outputs": [],
   "source": []
  }
 ],
 "metadata": {
  "kernelspec": {
   "display_name": "Python 3 (ipykernel)",
   "language": "python",
   "name": "python3"
  },
  "language_info": {
   "codemirror_mode": {
    "name": "ipython",
    "version": 3
   },
   "file_extension": ".py",
   "mimetype": "text/x-python",
   "name": "python",
   "nbconvert_exporter": "python",
   "pygments_lexer": "ipython3",
   "version": "3.9.12"
  }
 },
 "nbformat": 4,
 "nbformat_minor": 5
}
