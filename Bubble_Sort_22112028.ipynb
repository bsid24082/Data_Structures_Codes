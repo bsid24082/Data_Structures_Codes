{
 "cells": [
  {
   "cell_type": "markdown",
   "id": "e0f57a50",
   "metadata": {},
   "source": [
    "# Bubble Sort #"
   ]
  },
  {
   "cell_type": "code",
   "execution_count": null,
   "id": "7359854f",
   "metadata": {},
   "outputs": [],
   "source": [
    "def BubbleSort(arr):\n",
    "    n = len(arr)\n",
    "   \n",
    "    for i in range(n):\n",
    "        for j in range(0, n-i-1):\n",
    "            if arr[j] > arr[ j + 1]:\n",
    "                arr[j], arr[j + 1] = arr[j + 1], arr[j]\n",
    "arr = []\n",
    "a = int(input(\"Enter number of elements: \"))\n",
    "\n",
    "\n",
    "# Iterating till the range \n",
    "for i in range(0, a):\n",
    "    ele = int(input())\n",
    "    ## Adding the element \n",
    "    arr.append(ele)\n",
    "BubbleSort(arr)\n",
    "print(arr)\n"
   ]
  },
  {
   "cell_type": "code",
   "execution_count": null,
   "id": "e282a1c2",
   "metadata": {},
   "outputs": [],
   "source": []
  },
  {
   "cell_type": "code",
   "execution_count": 1,
   "id": "94cc4a26",
   "metadata": {},
   "outputs": [
    {
     "name": "stdout",
     "output_type": "stream",
     "text": [
      "enter the number of elements: 5\n",
      "11\n",
      "12\n",
      "13\n",
      "14\n",
      "1\n",
      "[1, 11, 12, 13, 14]\n"
     ]
    }
   ],
   "source": [
    "def BubbleSort(arr):\n",
    "    n = len(arr)\n",
    "    \n",
    "    for i in range(n):\n",
    "        for j in range(0, n - i - 1):\n",
    "            if arr[j] > arr[j + 1]:\n",
    "                arr[j], arr[j+1] = arr[j +1], arr[j]\n",
    "arr = []\n",
    "\n",
    "a = int(input(\"enter the number of elements: \"))\n",
    "\n",
    "for i in range(0, a):\n",
    "    ele = int(input())\n",
    "    arr.append(ele)\n",
    "    \n",
    "BubbleSort(arr)\n",
    "print(arr)\n"
   ]
  },
  {
   "cell_type": "code",
   "execution_count": null,
   "id": "44f73360",
   "metadata": {},
   "outputs": [],
   "source": []
  }
 ],
 "metadata": {
  "kernelspec": {
   "display_name": "Python 3 (ipykernel)",
   "language": "python",
   "name": "python3"
  },
  "language_info": {
   "codemirror_mode": {
    "name": "ipython",
    "version": 3
   },
   "file_extension": ".py",
   "mimetype": "text/x-python",
   "name": "python",
   "nbconvert_exporter": "python",
   "pygments_lexer": "ipython3",
   "version": "3.9.12"
  }
 },
 "nbformat": 4,
 "nbformat_minor": 5
}
