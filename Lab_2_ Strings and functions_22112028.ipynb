{
 "cells": [
  {
   "cell_type": "markdown",
   "id": "9bd07589",
   "metadata": {},
   "source": [
    "#  Strings and it's function"
   ]
  },
  {
   "cell_type": "code",
   "execution_count": 1,
   "id": "4ed92c20",
   "metadata": {},
   "outputs": [
    {
     "name": "stdout",
     "output_type": "stream",
     "text": [
      "This is my first string\n",
      "\n",
      "The length of my string is : 23\n",
      "\n",
      "Single Character is : i\n",
      "\n",
      "My substring is:  Th\n",
      "\n",
      "The total count of my txt is:  2\n",
      "\n",
      "Split form of my string is:  ['This', 'is', 'my', 'first', 'string']\n"
     ]
    }
   ],
   "source": [
    "# making a new String named \"string\"\n",
    "string  = (\"This is my first string\")\n",
    "print(string)\n",
    "print()\n",
    "\n",
    "# To find the length of the string\n",
    "print(\"The length of my string is :\",len(string))\n",
    "print()\n",
    "\n",
    "# Accessing single character \n",
    "print(\"Single Character is :\",string[2])\n",
    "print()\n",
    "\n",
    "# Creating substring\n",
    "print(\"My substring is: \", string[0:2])\n",
    "print()\n",
    "\n",
    "#Counting substring\n",
    "txt = \"I love apples, apple are my favorite fruit\"\n",
    "x = txt.count(\"apple\")\n",
    "print(\"The total count of my txt is: \", x)\n",
    "print()\n",
    "\n",
    "# Splitting string\n",
    "print(\"Split form of my string is: \", string.split())\n"
   ]
  },
  {
   "cell_type": "code",
   "execution_count": 2,
   "id": "9222ff3f",
   "metadata": {},
   "outputs": [
    {
     "name": "stdout",
     "output_type": "stream",
     "text": [
      "My initial string is:  I like Data Structures\n",
      "\n",
      "My new string after replacement is:  I like Rajma Chawal\n"
     ]
    }
   ],
   "source": [
    "# Replacing substring with another string\n",
    "txt = \"I like Data Structures\"\n",
    "print(\"My initial string is: \", txt)\n",
    "x = txt.replace(\"Data Structures\", \"Rajma Chawal\")\n",
    "print()\n",
    "print(\"My new string after replacement is: \", x)"
   ]
  },
  {
   "cell_type": "code",
   "execution_count": 3,
   "id": "2633cbe7",
   "metadata": {},
   "outputs": [
    {
     "name": "stdout",
     "output_type": "stream",
     "text": [
      "After comparing the 2 strings we see that if they are equal or not:  True\n",
      "\n",
      "If it is in title form:  False\n",
      "\n",
      "If it is in the digit form:  True\n",
      "\n",
      "If the string is in the alpha form:  False\n",
      "\n",
      "If the string is in upper case:  False\n",
      "\n",
      "If the string is in the form of lowercase:  False\n",
      "\n",
      "The upper form of my string is:  HEY THERE\n",
      "\n",
      "The lower form of my string is : hey there\n",
      "\n",
      "After swapping my string we get : hEY THERE\n",
      "\n"
     ]
    }
   ],
   "source": [
    "# Comparing string\n",
    "str1 = \"Hey there\"\n",
    "str2 = \"Hey there\"\n",
    "print(\"After comparing the 2 strings we see that if they are equal or not: \",str1 == str2)\n",
    "print()\n",
    "\n",
    "# Returns true if string is title case\n",
    "print(\"If it is in title form: \",str1.istitle())\n",
    "print()\n",
    "\n",
    "#Returns true if every character in the string is digit\n",
    "txt = \"22112028\"\n",
    "x = txt.isdigit()\n",
    "print(\"If it is in the digit form: \", x)\n",
    "print()\n",
    "\n",
    "# Returns True when it contains characters\n",
    "f = \"Justin Beiber\"\n",
    "print(\"If the string is in the alpha form: \",f.isalpha())\n",
    "print()\n",
    "\n",
    "# Returns true if string is upper case\n",
    "print(\"If the string is in upper case: \",str1.isupper())\n",
    "print()\n",
    "\n",
    "# Returns true if string is lower case\n",
    "print(\"If the string is in the form of lowercase: \", str1.islower())\n",
    "print()\n",
    "\n",
    "# Returns upper case string\n",
    "print(\"The upper form of my string is: \", str1.upper())\n",
    "print()\n",
    "\n",
    "#Returns true if string is lower case\n",
    "print(\"The lower form of my string is :\",str1.lower())\n",
    "print()\n",
    "\n",
    "# Convert lower letter to upper and vice a versa\n",
    "print(\"After swapping my string we get :\", str1.swapcase())\n",
    "print()"
   ]
  },
  {
   "cell_type": "markdown",
   "id": "7250d869",
   "metadata": {},
   "source": [
    "# List and Arrays "
   ]
  },
  {
   "cell_type": "code",
   "execution_count": 4,
   "id": "76d64cfd",
   "metadata": {},
   "outputs": [
    {
     "name": "stdout",
     "output_type": "stream",
     "text": [
      "My new List is : ['hey', 'bye', 'my', 65, 88, 'There']\n",
      "\n",
      "After appending my new list is:  ['hey', 'bye', 'my', 65, 88, 'There', 'Name is Siddharth']\n",
      "\n",
      "My copy of the list is : ['hey', 'bye', 'my', 65, 88, 'There', 'Name is Siddharth']\n",
      "\n",
      "After clearing my list we get : []\n",
      "\n"
     ]
    },
    {
     "data": {
      "text/plain": [
       "1"
      ]
     },
     "execution_count": 4,
     "metadata": {},
     "output_type": "execute_result"
    }
   ],
   "source": [
    "# Making a new list named \"List\"\n",
    "List  = [\"hey\", \"bye\", \"my\", 65, 88, \"There\"]\n",
    "print(\"My new List is :\", List)\n",
    "print()\n",
    "\n",
    "# Adds an element at the end of the list\n",
    "List.append(\"Name is Siddharth\")\n",
    "print(\"After appending my new list is: \",List)\n",
    "print()\n",
    "\n",
    "# Returns a copy of the list\n",
    "x = List.copy()\n",
    "print(\"My copy of the list is :\", x)\n",
    "print()\n",
    "\n",
    "# Removes all the elements from the list\n",
    "List.clear()\n",
    "print(\"After clearing my list we get :\", List)\n",
    "print()\n",
    "\n",
    "# Returns the number of elements with the specified value\n",
    "l = [1, 2,3, 4, \"harry\"]\n",
    "l.count(\"harry\")\n",
    "#print(\"the count of harry is :\", l.count())"
   ]
  },
  {
   "cell_type": "code",
   "execution_count": 5,
   "id": "0f8ce002",
   "metadata": {},
   "outputs": [
    {
     "name": "stdout",
     "output_type": "stream",
     "text": [
      "My extended list is : ['n', 'u', 't', 'e', 'l', 'l', 'a']\n",
      "\n",
      "List of fruits is:  ['n', 'u', 't', 'e', 'l', 'l', 'a']\n",
      "\n",
      "The index of cherry is : 2\n",
      "\n",
      "After adding mango to the list my new list is:  ['Banana', 'apple', 'mango', 'cherry', 'bread', 'butter']\n",
      "\n",
      "After popping we get:  ['Banana', 'mango', 'cherry', 'bread', 'butter']\n",
      "\n",
      "\n",
      "After reversing the list:  ['butter', 'bread', 'cherry', 'mango']\n",
      "\n",
      "Sorting the list : ['bread', 'butter', 'cherry', 'mango']\n"
     ]
    }
   ],
   "source": [
    "# Add the elements of a list (or any iterable), to the end of the current list\n",
    "List.extend(\"nutella\")\n",
    "print(\"My extended list is :\", List)\n",
    "print()\n",
    "\n",
    "fruits = [\"Banana\", \"apple\",\"cherry\", \"bread\", \"butter\"]\n",
    "print(\"List of fruits is: \", List)\n",
    "print()\n",
    "\n",
    "#Returns the index of the first element with the specified value\n",
    "x = fruits.index(\"cherry\")\n",
    "print(\"The index of cherry is :\", x)\n",
    "print()\n",
    "\n",
    "# Adds an element at the specified position\n",
    "fruits.insert(2,\"mango\")\n",
    "print(\"After adding mango to the list my new list is: \", fruits)\n",
    "print()\n",
    "\n",
    "# Removes the element at the specified position\n",
    "fruits.pop(1)\n",
    "print(\"After popping we get: \", fruits)\n",
    "print()\n",
    "\n",
    "# Removes the first item with the specified value\n",
    "fruits.remove(\"Banana\")\n",
    "print()\n",
    "\n",
    "# Reverses the order of the list\n",
    "fruits.reverse()\n",
    "print(\"After reversing the list: \", fruits)\n",
    "print()\n",
    "\n",
    "# Sorts the list\n",
    "fruits.sort()\n",
    "print(\"Sorting the list :\", fruits)"
   ]
  },
  {
   "cell_type": "markdown",
   "id": "28224dfc",
   "metadata": {},
   "source": [
    "# Sets and its functions"
   ]
  },
  {
   "cell_type": "code",
   "execution_count": 6,
   "id": "87e1b9f5",
   "metadata": {},
   "outputs": [
    {
     "name": "stdout",
     "output_type": "stream",
     "text": [
      "My new set is :  {'me', 'Class', 'food', 'rahul', 'hey', 'computer'}\n",
      "\n",
      "After adding object we get: {'me', 'Class', 'food', 'Object', 'rahul', 'hey', 'computer'}\n",
      "\n",
      "Copy of my set is:  {'me', 'Class', 'food', 'Object', 'rahul', 'hey', 'computer'}\n",
      "\n",
      "My new set is  {54, 23, 'hey', 11, 'Tiger'}\n",
      "\n",
      "My new set after clearing the set:  set()\n"
     ]
    }
   ],
   "source": [
    "Set = {\"hey\", \"rahul\", \"me\", \"food\", \"computer\", \"Class\"}\n",
    "print(\"My new set is : \", Set)\n",
    "print()\n",
    "\n",
    "# Adds an element to the set. If an element is already exist in the set, then it does not add that element.\n",
    "Set.add(\"Object\")\n",
    "print(\"After adding object we get:\", Set)\n",
    "print()\n",
    "\n",
    "# Returns a shallow copy of the set.\n",
    "Set.copy()\n",
    "print(\"Copy of my set is: \", Set)\n",
    "print()\n",
    "\n",
    "c = {\"hey\", 11, 23, 54, \"Tiger\"}\n",
    "print(\"My new set is \", c)\n",
    "print()\n",
    "# Removes all the elements from the set.\n",
    "c.clear()\n",
    "print(\"My new set after clearing the set: \", c)"
   ]
  },
  {
   "cell_type": "code",
   "execution_count": 7,
   "id": "f81f68c6",
   "metadata": {},
   "outputs": [
    {
     "name": "stdout",
     "output_type": "stream",
     "text": [
      "My first set is : {'facebook', 'apple', 'banana', 'cherry'}\n",
      "\n",
      "My second set is : {'apple', 'microsoft', 'google'}\n",
      "\n",
      "The difference of 2 sets is:  {'facebook', 'banana', 'cherry'}\n"
     ]
    }
   ],
   "source": [
    "# Returns the new set with the unique elements that are not in the another set passed as a parameter.\n",
    "x = {\"apple\", \"banana\", \"cherry\", \"facebook\"}\n",
    "y = {\"google\", \"microsoft\", \"apple\"}\n",
    "print(\"My first set is :\" ,x)\n",
    "print()\n",
    "print(\"My second set is :\", y)\n",
    "print()\n",
    "z = x.difference(y)\n",
    "print(\"The difference of 2 sets is: \", z)\n",
    "\n",
    "# Updates the set on which the method is called with the elements that are common in another set passed as an argument.\n",
    "x.difference_update(y)"
   ]
  },
  {
   "cell_type": "code",
   "execution_count": 8,
   "id": "5fa9e530",
   "metadata": {},
   "outputs": [
    {
     "name": "stdout",
     "output_type": "stream",
     "text": [
      "My new set is:  {'facebook', 'apple', 'banana', 'cherry'}\n",
      "\n",
      "After discarding we get : {'facebook', 'banana', 'cherry'}\n",
      "\n",
      "new set is:  {'facebook', 'apple', 'banana', 'cherry'}\n",
      "\n",
      "my second set is : {'chocolate', 'apple', 'instagram', 'cherry'}\n",
      "\n",
      "The intersection of 2 set is :  {'apple', 'cherry'}\n",
      "\n",
      "After updating and getting the intesection:  None\n"
     ]
    }
   ],
   "source": [
    "# Removes a specific element from the set.\n",
    "x = {\"apple\", \"banana\", \"cherry\", \"facebook\"}\n",
    "print(\"My new set is: \", x)\n",
    "print()\n",
    "\n",
    "x.discard(\"apple\")\n",
    "print(\"After discarding we get :\", x)\n",
    "print()\n",
    "\n",
    "# Returns a new set with the elements that are common in the given sets.\n",
    "x = {\"apple\", \"banana\", \"cherry\", \"facebook\"}\n",
    "print(\"new set is: \", x)\n",
    "print()\n",
    "\n",
    "y = {\"apple\", \"chocolate\", \"cherry\", \"instagram\"}\n",
    "print(\"my second set is :\", y)\n",
    "print()\n",
    "\n",
    "print(\"The intersection of 2 set is : \",x.intersection(y))\n",
    "print()\n",
    "\n",
    "# Updates the set on which the instersection_update() method is called, with common elements among the specified sets\n",
    "print(\"After updating and getting the intesection: \", x.intersection_update(y))"
   ]
  },
  {
   "cell_type": "code",
   "execution_count": 9,
   "id": "f5a47331",
   "metadata": {},
   "outputs": [
    {
     "name": "stdout",
     "output_type": "stream",
     "text": [
      "My set is :  {'apple', 'banana', 'cherry'}\n",
      "\n",
      "My set is :  {'facebook', 'microsoft', 'google'}\n",
      "\n",
      "If the sets are disjoint? : True\n"
     ]
    }
   ],
   "source": [
    "# Returns true if the given sets have no common elements. Sets are disjoint if and only if their intersection is the empty set.\n",
    "x = {\"apple\", \"banana\", \"cherry\"}\n",
    "print(\"My set is : \", x)\n",
    "print()\n",
    "\n",
    "y = {\"google\", \"microsoft\", \"facebook\"}\n",
    "print(\"My set is : \", y)\n",
    "print()\n",
    "\n",
    "z = x.isdisjoint(y)\n",
    "print(\"If the sets are disjoint? :\", z)\n"
   ]
  },
  {
   "cell_type": "code",
   "execution_count": 10,
   "id": "bbff46be",
   "metadata": {},
   "outputs": [
    {
     "name": "stdout",
     "output_type": "stream",
     "text": [
      "Set 1 is : {'facebook', 'apple', 'banana', 'cherry'}\n",
      "\n",
      "Set 2 is : {'apple', 'microsoft', 'google'}\n",
      "\n",
      "If the sets are subsets of each other:  False\n"
     ]
    }
   ],
   "source": [
    "# Returns true if the set (on which the issubset() is called) contains every \n",
    "# element of the other set passed as an argument.\n",
    "\n",
    "x = {\"apple\", \"banana\", \"cherry\", \"facebook\"}\n",
    "print(\"Set 1 is :\", x)\n",
    "print()\n",
    "\n",
    "y = {\"google\", \"microsoft\", \"apple\"}\n",
    "print(\"Set 2 is :\", y)\n",
    "print()\n",
    " \n",
    "print(\"If the sets are subsets of each other: \", x.issubset(y))"
   ]
  },
  {
   "cell_type": "code",
   "execution_count": 11,
   "id": "5a1905bd",
   "metadata": {},
   "outputs": [
    {
     "name": "stdout",
     "output_type": "stream",
     "text": [
      "My set is:  {'apple', 'banana', 'cherry'}\n",
      "\n",
      "After popping:  apple\n"
     ]
    }
   ],
   "source": [
    "# Removes and returns a random element from the set.\n",
    "x = {\"apple\", \"banana\", \"cherry\"}\n",
    "print(\"My set is: \", x)\n",
    "print()\n",
    "print(\"After popping: \", x.pop())"
   ]
  },
  {
   "cell_type": "code",
   "execution_count": 12,
   "id": "07e9c7c8",
   "metadata": {},
   "outputs": [
    {
     "name": "stdout",
     "output_type": "stream",
     "text": [
      " New set is :  {'Shoes', 'apple', 'hehe', 'banana'}\n",
      "\n",
      "The new set after removing 'apple' is :  {'Shoes', 'hehe', 'banana'}\n"
     ]
    }
   ],
   "source": [
    "# Removes the specified element from the set. If the specified element not found, raise an error.\n",
    "x = {\"apple\", \"banana\", \"Shoes\", \"hehe\"}\n",
    "print(\" New set is : \", x)\n",
    "print()\n",
    "x.remove(\"apple\")\n",
    "print(\"The new set after removing 'apple' is : \", x)"
   ]
  },
  {
   "cell_type": "code",
   "execution_count": 13,
   "id": "c5dd631c",
   "metadata": {},
   "outputs": [
    {
     "name": "stdout",
     "output_type": "stream",
     "text": [
      "The new set is : {'facebook', 'apple', 'banana', 'cherry'}\n",
      "\n",
      "Set 2 is : {'snapchat', 'apple', 'google', 'cherry'}\n",
      "\n",
      "The symmetric difference of 2 set is:  {'facebook', 'google', 'banana', 'snapchat'}\n"
     ]
    }
   ],
   "source": [
    "# Returns a new set with the distinct elements found in both the sets.\n",
    "x = {\"apple\", \"banana\", \"cherry\", \"facebook\"}\n",
    "print(\"The new set is :\", x)\n",
    "print()\n",
    "y = {\"google\", \"snapchat\", \"apple\", \"apple\", \"cherry\"}\n",
    "print(\"Set 2 is :\", y)\n",
    "print()\n",
    "print(\"The symmetric difference of 2 set is: \", x.symmetric_difference(y))"
   ]
  },
  {
   "cell_type": "code",
   "execution_count": 14,
   "id": "d3928795",
   "metadata": {},
   "outputs": [
    {
     "name": "stdout",
     "output_type": "stream",
     "text": [
      "Set 1 is :  {'facebook', 'apple', 'banana', 'cherry'}\n",
      "\n",
      "Set 2 is:  {'apple', 'microsoft', 'google'}\n",
      "\n",
      "The union of 2 sets is:  {'facebook', 'microsoft', 'google', 'banana', 'apple', 'cherry'}\n"
     ]
    }
   ],
   "source": [
    "# Returns a new set with distinct elements from all the given sets.\n",
    "x = {\"apple\", \"banana\", \"cherry\", \"facebook\"}\n",
    "print(\"Set 1 is : \", x)\n",
    "print()\n",
    "y = {\"google\", \"microsoft\", \"apple\"}\n",
    "print(\"Set 2 is: \", y)\n",
    "print()\n",
    "print(\"The union of 2 sets is: \", x.union(y))"
   ]
  },
  {
   "cell_type": "code",
   "execution_count": 15,
   "id": "989befd9",
   "metadata": {},
   "outputs": [
    {
     "name": "stdout",
     "output_type": "stream",
     "text": [
      "Set 1 is:  {'facebook', 'apple', 'banana', 'cherry'}\n",
      "\n",
      "Set 2 is:  {'apple', 'microsoft', 'google'}\n",
      "\n",
      "After updating the set we have:  None\n"
     ]
    }
   ],
   "source": [
    "# Updates the set by adding distinct elements from the passed one or more iterables.\n",
    "x = {\"apple\", \"banana\", \"cherry\", \"facebook\"}\n",
    "print(\"Set 1 is: \", x)\n",
    "print()\n",
    "y = {\"google\", \"microsoft\", \"apple\"}\n",
    "print(\"Set 2 is: \", y)\n",
    "print()\n",
    "print(\"After updating the set we have: \", x.update(y))"
   ]
  },
  {
   "cell_type": "markdown",
   "id": "36af3441",
   "metadata": {},
   "source": [
    "#  Dictionary and its functions "
   ]
  },
  {
   "cell_type": "code",
   "execution_count": 16,
   "id": "668de803",
   "metadata": {},
   "outputs": [
    {
     "name": "stdout",
     "output_type": "stream",
     "text": [
      "My dictionary is:  {'lambo': 1, 'ferrari': 2, 'Verstappen': 3, 'Hamilton': 3}\n",
      "\n",
      "After clearing a dict we have:  None\n",
      "\n",
      "My new dict is :  {'lambo': 1, 'ferrari': 2, 'Verstappen': 3, 'Hamilton': 4}\n",
      "\n",
      "My copied dictionary is :  {'lambo': 1, 'ferrari': 2, 'Verstappen': 3, 'Hamilton': 4}\n",
      "\n",
      "My first dictionary is:  {'Verstappen': 3, 'Hamilton': 4}\n",
      "\n",
      "My second dictionary is :  {'Redbull': 1}\n",
      "\n",
      "Using fromkeys we get:  {'Verstappen': {'Redbull': 1}, 'Hamilton': {'Redbull': 1}}\n",
      "\n",
      "Using keys we get:  3\n",
      "\n",
      "Lists with all the dictionary keys:  dict_items([('Verstappen', 3), ('Hamilton', 4)])\n",
      "\n",
      "Gives a list of keys :  dict_keys(['Verstappen', 'Hamilton'])\n",
      "\n",
      "After popping 'Verstappen the dictionary is : {'Hamilton': 4}\n"
     ]
    }
   ],
   "source": [
    "dict = {\"lambo\" : 1, \"ferrari\": 2, \"Verstappen\" : 3, \"Hamilton\" :3}\n",
    "print(\"My dictionary is: \", dict)\n",
    "print()\n",
    "\n",
    "#Removes all items from the dictionary\n",
    "print(\"After clearing a dict we have: \",dict.clear())\n",
    "print()\n",
    "\n",
    "mydict = {\"lambo\" : 1, \"ferrari\": 2, \"Verstappen\" : 3, \"Hamilton\" :4}\n",
    "print(\"My new dict is : \", mydict)\n",
    "print()\n",
    "\n",
    "# Returns a shallow copy of the dictionary\n",
    "print(\"My copied dictionary is : \", mydict.copy())\n",
    "print()\n",
    "\n",
    "# Creates a dictionary from the given sequence\n",
    "x = {\"Verstappen\" : 3, \"Hamilton\" :4}\n",
    "print(\"My first dictionary is: \", x)\n",
    "print()\n",
    "\n",
    "y = {\"Redbull\": 1}\n",
    "print(\"My second dictionary is : \", y)\n",
    "print()\n",
    "\n",
    "f1 = dict.fromkeys(x, y)\n",
    "print(\"Using fromkeys we get: \", f1)\n",
    "print()\n",
    "\n",
    "# Returns the value for the given key\n",
    "print(\"Using keys we get: \", x.get(\"Verstappen\"))\n",
    "print()\n",
    "\n",
    "# Return the list with all dictionary keys with values\n",
    "print(\"Lists with all the dictionary keys: \", x.items())\n",
    "print()\n",
    "\n",
    "# Returns a view object that displays a list of all the keys in the dictionary in order of insertion\n",
    "print(\"Gives a list of keys : \", x.keys())\n",
    "print()\n",
    "\n",
    "# Returns and removes the element with the given key\n",
    "x.pop(\"Verstappen\")\n",
    "print(\"After popping 'Verstappen the dictionary is :\", x)"
   ]
  },
  {
   "cell_type": "code",
   "execution_count": null,
   "id": "e8daa5b3",
   "metadata": {},
   "outputs": [],
   "source": []
  }
 ],
 "metadata": {
  "kernelspec": {
   "display_name": "Python 3 (ipykernel)",
   "language": "python",
   "name": "python3"
  },
  "language_info": {
   "codemirror_mode": {
    "name": "ipython",
    "version": 3
   },
   "file_extension": ".py",
   "mimetype": "text/x-python",
   "name": "python",
   "nbconvert_exporter": "python",
   "pygments_lexer": "ipython3",
   "version": "3.9.12"
  }
 },
 "nbformat": 4,
 "nbformat_minor": 5
}
