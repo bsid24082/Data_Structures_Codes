{
 "cells": [
  {
   "cell_type": "markdown",
   "id": "d401278a",
   "metadata": {},
   "source": [
    "#  Quick-Sort"
   ]
  },
  {
   "cell_type": "code",
   "execution_count": 6,
   "id": "5f40245e",
   "metadata": {},
   "outputs": [
    {
     "name": "stdout",
     "output_type": "stream",
     "text": [
      "1 - Quick Sort\n",
      "2 - Merge Sort\n",
      "0 - Exit\n",
      "Enter Your Choice: 0\n",
      "Exit\n"
     ]
    }
   ],
   "source": [
    "arr = []\n",
    "\n",
    "def partition(arr, low, high):\n",
    "    i = (low - 1)\n",
    "    pivot =arr[high]\n",
    "    \n",
    "    for j in range(low, high):\n",
    "        \n",
    "        if arr[j] <= pivot:\n",
    "            i = i + 1\n",
    "            arr[i], arr[j] = arr[j], arr[i]\n",
    "            \n",
    "    arr[i + 1], arr[high] = arr[high], arr[i + 1]\n",
    "    return(i + 1)\n",
    "\n",
    "def mergeSort(arr,l,r):\n",
    "    print(\"Intermidiate array in mergesort\")\n",
    "    for i in range(l , r+1):\n",
    "        print(\"%d\" %arr[i])\n",
    "    if l<r:\n",
    "        m = (l+(r-1))//2\n",
    "        print(\"l=\", l, \"r=\", r, \"m=\", m)\n",
    "        mergeSort(arr, l, m)\n",
    "        mergeSort(arr, m+1, r)\n",
    "        merge(arr, l, m, r)\n",
    "        \n",
    "def QuickSort(arr, low, high):\n",
    "    if len(arr) == 1:\n",
    "        return arr\n",
    "    \n",
    "    if low < high:\n",
    "        pi = partition(arr, low, high)\n",
    "        QuickSort(arr, low, pi - 1)\n",
    "        QuickSort(arr, pi + 1, high)\n",
    "        \n",
    "print(\"1 - Quick Sort\")\n",
    "print(\"2 - Merge Sort\")\n",
    "print(\"0 - Exit\")\n",
    "\n",
    "while True:\n",
    "    ch = int(input(\"Enter Your Choice: \"))\n",
    "    if ch == 0:\n",
    "        print(\"Exit\")\n",
    "        break\n",
    "    if ch == 1:\n",
    "        print(\"Sorting Uisng QuickSort\")\n",
    "        QuickSort(arr, 0, n - 1)\n",
    "        for i in range(n):\n",
    "            print(\"%d\" %arr[i])\n",
    "            \n",
    "    if ch == 2:\n",
    "        print(\"Sorting Using MergeSort\")\n",
    "        mergeSort(arr, 0, n - 1)\n",
    "        for i in range(n):\n",
    "            print(\"%d\" %arr[i])"
   ]
  },
  {
   "cell_type": "code",
   "execution_count": null,
   "id": "56e6bdec",
   "metadata": {},
   "outputs": [],
   "source": []
  }
 ],
 "metadata": {
  "kernelspec": {
   "display_name": "Python 3 (ipykernel)",
   "language": "python",
   "name": "python3"
  },
  "language_info": {
   "codemirror_mode": {
    "name": "ipython",
    "version": 3
   },
   "file_extension": ".py",
   "mimetype": "text/x-python",
   "name": "python",
   "nbconvert_exporter": "python",
   "pygments_lexer": "ipython3",
   "version": "3.9.12"
  }
 },
 "nbformat": 4,
 "nbformat_minor": 5
}
