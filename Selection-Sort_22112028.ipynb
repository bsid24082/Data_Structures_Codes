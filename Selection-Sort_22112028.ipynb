{
 "cells": [
  {
   "cell_type": "markdown",
   "id": "a957142c",
   "metadata": {},
   "source": [
    "# Selection Sort"
   ]
  },
  {
   "cell_type": "code",
   "execution_count": null,
   "id": "1599db18",
   "metadata": {},
   "outputs": [],
   "source": [
    "A=[]\n",
    "n=int(input(\"Enter the number of elements: \"))\n",
    "for i in range(0,n):\n",
    "    ele=int(input())\n",
    "    A.append(ele)\n",
    "print(A)\n",
    "\n",
    "#Traverse through all array elements\n",
    "def SelectionSort(A):\n",
    "    for i in range(len(A)):\n",
    "        #Find the minimum element in remaining\n",
    "        #Unsorted array\n",
    "        min_idx=i\n",
    "        for j in range(i+1,len(A)):\n",
    "            if A[min_idx]>A[j]:\n",
    "                min_idx=j\n",
    "        A[i],A[min_idx]=A[min_idx],A[i]\n",
    "        \n",
    "\n",
    "\n",
    "result=SelectionSort(A)\n",
    "print(result)\n",
    "print(A)"
   ]
  },
  {
   "cell_type": "code",
   "execution_count": null,
   "id": "5567cd44",
   "metadata": {},
   "outputs": [],
   "source": []
  }
 ],
 "metadata": {
  "kernelspec": {
   "display_name": "Python 3 (ipykernel)",
   "language": "python",
   "name": "python3"
  },
  "language_info": {
   "codemirror_mode": {
    "name": "ipython",
    "version": 3
   },
   "file_extension": ".py",
   "mimetype": "text/x-python",
   "name": "python",
   "nbconvert_exporter": "python",
   "pygments_lexer": "ipython3",
   "version": "3.9.12"
  }
 },
 "nbformat": 4,
 "nbformat_minor": 5
}
